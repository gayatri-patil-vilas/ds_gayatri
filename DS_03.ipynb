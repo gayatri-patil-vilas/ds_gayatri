{
 "cells": [
  {
   "cell_type": "code",
   "execution_count": 4,
   "id": "3b2a707c-2093-4ed2-85af-1cc017fdf709",
   "metadata": {},
   "outputs": [],
   "source": [
    "# Import necessary libraries\n",
    "import pandas as pd\n",
    "import numpy as np"
   ]
  },
  {
   "cell_type": "code",
   "execution_count": 5,
   "id": "e10e40de-259d-4345-99c7-7ee3c9eb70dd",
   "metadata": {},
   "outputs": [],
   "source": [
    "# Step 1: Load the iris dataset\n",
    "# You can replace 'iris.csv' with the path to your CSV file\n",
    "df = pd.read_csv(\"https://raw.githubusercontent.com/uiuc-cse/data-fa14/gh-pages/data/iris.csv\")"
   ]
  },
  {
   "cell_type": "code",
   "execution_count": 6,
   "id": "1f0b0753-0bc9-4334-b53b-8460a56332fd",
   "metadata": {},
   "outputs": [],
   "source": [
    "# Step 2: Grouping numerical variables by a categorical variable (species)\n",
    "grouped = df.groupby('species')"
   ]
  },
  {
   "cell_type": "code",
   "execution_count": 7,
   "id": "fc6ada04-6946-4b78-bc69-37c14688c6b3",
   "metadata": {},
   "outputs": [
    {
     "name": "stdout",
     "output_type": "stream",
     "text": [
      "=== Summary Statistics Grouped by Species ===\n",
      "\n",
      "           sepal_length                            sepal_width              \\\n",
      "                   mean median  min  max       std        mean median  min   \n",
      "species                                                                      \n",
      "setosa            5.006    5.0  4.3  5.8  0.352490       3.418    3.4  2.3   \n",
      "versicolor        5.936    5.9  4.9  7.0  0.516171       2.770    2.8  2.0   \n",
      "virginica         6.588    6.5  4.9  7.9  0.635880       2.974    3.0  2.2   \n",
      "\n",
      "                          petal_length                            petal_width  \\\n",
      "            max       std         mean median  min  max       std        mean   \n",
      "species                                                                         \n",
      "setosa      4.4  0.381024        1.464   1.50  1.0  1.9  0.173511       0.244   \n",
      "versicolor  3.4  0.313798        4.260   4.35  3.0  5.1  0.469911       1.326   \n",
      "virginica   3.8  0.322497        5.552   5.55  4.5  6.9  0.551895       2.026   \n",
      "\n",
      "                                       \n",
      "           median  min  max       std  \n",
      "species                                \n",
      "setosa        0.2  0.1  0.6  0.107210  \n",
      "versicolor    1.3  1.0  1.8  0.197753  \n",
      "virginica     2.0  1.4  2.5  0.274650  \n"
     ]
    }
   ],
   "source": [
    "# Step 3: Summary statistics (mean, median, min, max, std) for each group\n",
    "summary_stats = grouped.agg(['mean', 'median', 'min', 'max', 'std'])\n",
    "print(\"=== Summary Statistics Grouped by Species ===\\n\")\n",
    "print(summary_stats)"
   ]
  },
  {
   "cell_type": "code",
   "execution_count": 9,
   "id": "4a7309ba-bce2-42fa-b93f-44b14a56e33d",
   "metadata": {},
   "outputs": [
    {
     "name": "stdout",
     "output_type": "stream",
     "text": [
      "\n",
      "=== Sepal Length Lists by Species ===\n",
      "setosa: [5.1, 4.9, 4.7, 4.6, 5.0, 5.4, 4.6, 5.0, 4.4, 4.9, 5.4, 4.8, 4.8, 4.3, 5.8, 5.7, 5.4, 5.1, 5.7, 5.1, 5.4, 5.1, 4.6, 5.1, 4.8, 5.0, 5.0, 5.2, 5.2, 4.7, 4.8, 5.4, 5.2, 5.5, 4.9, 5.0, 5.5, 4.9, 4.4, 5.1, 5.0, 4.5, 4.4, 5.0, 5.1, 4.8, 5.1, 4.6, 5.3, 5.0]\n",
      "versicolor: [7.0, 6.4, 6.9, 5.5, 6.5, 5.7, 6.3, 4.9, 6.6, 5.2, 5.0, 5.9, 6.0, 6.1, 5.6, 6.7, 5.6, 5.8, 6.2, 5.6, 5.9, 6.1, 6.3, 6.1, 6.4, 6.6, 6.8, 6.7, 6.0, 5.7, 5.5, 5.5, 5.8, 6.0, 5.4, 6.0, 6.7, 6.3, 5.6, 5.5, 5.5, 6.1, 5.8, 5.0, 5.6, 5.7, 5.7, 6.2, 5.1, 5.7]\n",
      "virginica: [6.3, 5.8, 7.1, 6.3, 6.5, 7.6, 4.9, 7.3, 6.7, 7.2, 6.5, 6.4, 6.8, 5.7, 5.8, 6.4, 6.5, 7.7, 7.7, 6.0, 6.9, 5.6, 7.7, 6.3, 6.7, 7.2, 6.2, 6.1, 6.4, 7.2, 7.4, 7.9, 6.4, 6.3, 6.1, 7.7, 6.3, 6.4, 6.0, 6.9, 6.7, 6.9, 5.8, 6.8, 6.7, 6.7, 6.3, 6.5, 6.2, 5.9]\n"
     ]
    }
   ],
   "source": [
    "# Step 4: Create a list of numeric values for each response to the categorical variable\n",
    "# For example: list of sepal_length values for each species\n",
    "grouped_lists = grouped['sepal_length'].apply(list)\n",
    "print(\"\\n=== Sepal Length Lists by Species ===\")\n",
    "for species, values in grouped_lists.items():\n",
    "    print(f\"{species}: {values}\")"
   ]
  },
  {
   "cell_type": "code",
   "execution_count": 11,
   "id": "1ae0c229-71dd-4f77-94db-04b3c998da1a",
   "metadata": {},
   "outputs": [
    {
     "name": "stdout",
     "output_type": "stream",
     "text": [
      "\n",
      "=== Detailed Statistical Description by Species ===\n",
      "\n",
      "--- Statistics for setosa ---\n",
      "       sepal_length  sepal_width  petal_length  petal_width\n",
      "count      50.00000    50.000000     50.000000     50.00000\n",
      "mean        5.00600     3.418000      1.464000      0.24400\n",
      "std         0.35249     0.381024      0.173511      0.10721\n",
      "min         4.30000     2.300000      1.000000      0.10000\n",
      "25%         4.80000     3.125000      1.400000      0.20000\n",
      "50%         5.00000     3.400000      1.500000      0.20000\n",
      "75%         5.20000     3.675000      1.575000      0.30000\n",
      "max         5.80000     4.400000      1.900000      0.60000\n",
      "\n",
      "--- Statistics for versicolor ---\n",
      "       sepal_length  sepal_width  petal_length  petal_width\n",
      "count     50.000000    50.000000     50.000000    50.000000\n",
      "mean       5.936000     2.770000      4.260000     1.326000\n",
      "std        0.516171     0.313798      0.469911     0.197753\n",
      "min        4.900000     2.000000      3.000000     1.000000\n",
      "25%        5.600000     2.525000      4.000000     1.200000\n",
      "50%        5.900000     2.800000      4.350000     1.300000\n",
      "75%        6.300000     3.000000      4.600000     1.500000\n",
      "max        7.000000     3.400000      5.100000     1.800000\n",
      "\n",
      "--- Statistics for virginica ---\n",
      "       sepal_length  sepal_width  petal_length  petal_width\n",
      "count      50.00000    50.000000     50.000000     50.00000\n",
      "mean        6.58800     2.974000      5.552000      2.02600\n",
      "std         0.63588     0.322497      0.551895      0.27465\n",
      "min         4.90000     2.200000      4.500000      1.40000\n",
      "25%         6.22500     2.800000      5.100000      1.80000\n",
      "50%         6.50000     3.000000      5.550000      2.00000\n",
      "75%         6.90000     3.175000      5.875000      2.30000\n",
      "max         7.90000     3.800000      6.900000      2.50000\n"
     ]
    }
   ],
   "source": [
    "# Step 5: Display basic statistical details like percentile, mean, std for each species\n",
    "print(\"\\n=== Detailed Statistical Description by Species ===\")\n",
    "for species in df['species'].unique():\n",
    "    print(f\"\\n--- Statistics for {species} ---\")\n",
    "    species_data = df[df['species'] == species]\n",
    "    desc = species_data.describe(percentiles=[.25, .5, .75])\n",
    "    print(desc)"
   ]
  },
  {
   "cell_type": "code",
   "execution_count": null,
   "id": "b4383647-dc1d-4558-857c-b53cfc1b772a",
   "metadata": {},
   "outputs": [],
   "source": []
  }
 ],
 "metadata": {
  "kernelspec": {
   "display_name": "Python 3 (ipykernel)",
   "language": "python",
   "name": "python3"
  },
  "language_info": {
   "codemirror_mode": {
    "name": "ipython",
    "version": 3
   },
   "file_extension": ".py",
   "mimetype": "text/x-python",
   "name": "python",
   "nbconvert_exporter": "python",
   "pygments_lexer": "ipython3",
   "version": "3.11.7"
  }
 },
 "nbformat": 4,
 "nbformat_minor": 5
}

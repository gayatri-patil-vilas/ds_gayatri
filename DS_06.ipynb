{
 "cells": [
  {
   "cell_type": "code",
   "execution_count": 5,
   "id": "63cf2815-d64a-4d8a-bad6-0731ce498691",
   "metadata": {},
   "outputs": [
    {
     "ename": "NameError",
     "evalue": "name 'load_iris' is not defined",
     "output_type": "error",
     "traceback": [
      "\u001b[1;31m---------------------------------------------------------------------------\u001b[0m",
      "\u001b[1;31mNameError\u001b[0m                                 Traceback (most recent call last)",
      "Cell \u001b[1;32mIn[5], line 8\u001b[0m\n\u001b[0;32m      5\u001b[0m \u001b[38;5;28;01mfrom\u001b[39;00m \u001b[38;5;21;01msklearn\u001b[39;00m\u001b[38;5;21;01m.\u001b[39;00m\u001b[38;5;21;01mmetrics\u001b[39;00m \u001b[38;5;28;01mimport\u001b[39;00m confusion_matrix, accuracy_score, precision_score, recall_score, f1_score\n\u001b[0;32m      6\u001b[0m \u001b[38;5;66;03m# Step 1: Load the Iris dataset\u001b[39;00m\n\u001b[0;32m      7\u001b[0m \u001b[38;5;66;03m# You can replace the path with your local 'iris.csv' path\u001b[39;00m\n\u001b[1;32m----> 8\u001b[0m iris \u001b[38;5;241m=\u001b[39m load_iris()\n\u001b[0;32m      9\u001b[0m df \u001b[38;5;241m=\u001b[39m pd\u001b[38;5;241m.\u001b[39mread_csv(iris\u001b[38;5;241m.\u001b[39mcsv)\n\u001b[0;32m     10\u001b[0m \u001b[38;5;66;03m# Step 2: Preprocessing the dataset\u001b[39;00m\n\u001b[0;32m     11\u001b[0m \u001b[38;5;66;03m# Display first few rows of the dataset\u001b[39;00m\n",
      "\u001b[1;31mNameError\u001b[0m: name 'load_iris' is not defined"
     ]
    }
   ],
   "source": [
    "# Import necessary libraries\n",
    "import pandas as pd\n",
    "from sklearn.model_selection import train_test_split\n",
    "from sklearn.naive_bayes import GaussianNB\n",
    "from sklearn.metrics import confusion_matrix, accuracy_score, precision_score, recall_score, f1_score\n",
    "# Step 1: Load the Iris dataset\n",
    "# You can replace the path with your local 'iris.csv' path\n",
    "iris = load_iris()\n",
    "df = pd.read_csv(iris.data)\n",
    "# Step 2: Preprocessing the dataset\n",
    "# Display first few rows of the dataset\n",
    "print(df.head())\n",
    "# Step 3: Split the data into features (X) and target variable (y)\n",
    "X = df.iloc[:, :-1].values # Features (sepal_length, sepal_width, petal_length, petal_width)\n",
    "y = df.iloc[:, -1].values # Target (species)\n",
    "# Step 4: Split the dataset into training and testing sets\n",
    "X_train, X_test, y_train, y_test = train_test_split(X, y, test_size=0.2, random_state=0)\n",
    "# Step 5: Initialize the Naïve Bayes classifier\n",
    "nb_classifier = GaussianNB()\n",
    "# Step 6: Train the model on the training set\n",
    "nb_classifier.fit(X_train, y_train)\n",
    "# Step 7: Predict the test set results\n",
    "y_pred = nb_classifier.predict(X_test)"
   ]
  },
  {
   "cell_type": "code",
   "execution_count": null,
   "id": "0fe8c903-736c-4a5c-9ebc-2c67eec5e641",
   "metadata": {},
   "outputs": [],
   "source": [
    "# Step 8: Compute the Confusion Matrix\n",
    "cm = confusion_matrix(y_test, y_pred)\n",
    "print(\"Confusion Matrix:\")\n",
    "print(cm)\n",
    "# Step 9: Calculate Performance Metrics\n",
    "# True Positives (TP), False Positives (FP), True Negatives (TN), False Negatives (FN)\n",
    "TP = cm[1, 1]\n",
    "FP = cm[0, 1]\n",
    "TN = cm[0, 0]\n",
    "FN = cm[1, 0]\n",
    "# Accuracy\n",
    "accuracy = accuracy_score(y_test, y_pred)\n",
    "# Error Rate\n",
    "error_rate = 1 - accuracy\n",
    "# Precision\n",
    "precision = precision_score(y_test, y_pred, average='weighted')\n",
    "# Recall\n",
    "recall = recall_score(y_test, y_pred, average='weighted')\n",
    "# F1-Score (optional but useful)\n",
    "f1 = f1_score(y_test, y_pred, average='weighted')\n",
    "# Step 10: Print all metrics\n",
    "print(\"\\nEvaluation Metrics:\")\n",
    "print(f\"True Positives (TP): {TP}\")"
   ]
  },
  {
   "cell_type": "code",
   "execution_count": null,
   "id": "34380234-f73d-4e77-8c1e-824ba015a0d0",
   "metadata": {},
   "outputs": [],
   "source": [
    "print(f\"False Positives (FP): {FP}\")\n",
    "print(f\"True Negatives (TN): {TN}\")\n",
    "print(f\"False Negatives (FN): {FN}\")\n",
    "print(f\"Accuracy: {accuracy:.4f}\")\n",
    "print(f\"Error Rate: {error_rate:.4f}\")\n",
    "print(f\"Precision: {precision:.4f}\")\n",
    "print(f\"Recall: {recall:.4f}\")\n",
    "print(f\"F1-Score: {f1:.4f}\")"
   ]
  },
  {
   "cell_type": "code",
   "execution_count": null,
   "id": "6c2bc7ec-6a1e-4a94-b699-36d716e029d6",
   "metadata": {},
   "outputs": [],
   "source": []
  },
  {
   "cell_type": "code",
   "execution_count": null,
   "id": "279b087a-04a8-4e38-bc84-08b98c91c88d",
   "metadata": {},
   "outputs": [],
   "source": []
  },
  {
   "cell_type": "code",
   "execution_count": null,
   "id": "5600041c-974c-4cef-a487-e1dd6fdfaf6e",
   "metadata": {},
   "outputs": [],
   "source": []
  },
  {
   "cell_type": "code",
   "execution_count": null,
   "id": "90f58530-f4e5-4b40-b0ce-3ae134c25556",
   "metadata": {},
   "outputs": [],
   "source": []
  },
  {
   "cell_type": "code",
   "execution_count": null,
   "id": "c93d6fd8-2902-4db8-a0f6-0f59d437ad9a",
   "metadata": {},
   "outputs": [],
   "source": []
  },
  {
   "cell_type": "code",
   "execution_count": null,
   "id": "d14272f6-5c15-4176-a8f2-f7a485fbc7db",
   "metadata": {},
   "outputs": [],
   "source": []
  },
  {
   "cell_type": "code",
   "execution_count": null,
   "id": "ad60a5b9-7d35-45eb-baff-38e242bbe5f4",
   "metadata": {},
   "outputs": [],
   "source": []
  },
  {
   "cell_type": "code",
   "execution_count": null,
   "id": "2c16393a-f59d-4767-b2c8-51b093e75872",
   "metadata": {},
   "outputs": [],
   "source": []
  },
  {
   "cell_type": "code",
   "execution_count": null,
   "id": "7ab39e53-cc9a-4e1c-b082-220d2fae1e55",
   "metadata": {},
   "outputs": [],
   "source": []
  }
 ],
 "metadata": {
  "kernelspec": {
   "display_name": "Python 3 (ipykernel)",
   "language": "python",
   "name": "python3"
  },
  "language_info": {
   "codemirror_mode": {
    "name": "ipython",
    "version": 3
   },
   "file_extension": ".py",
   "mimetype": "text/x-python",
   "name": "python",
   "nbconvert_exporter": "python",
   "pygments_lexer": "ipython3",
   "version": "3.11.7"
  }
 },
 "nbformat": 4,
 "nbformat_minor": 5
}
